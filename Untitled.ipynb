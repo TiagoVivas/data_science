{
 "cells": [
  {
   "cell_type": "markdown",
   "id": "c5e866f1",
   "metadata": {},
   "source": [
    "# Introduction"
   ]
  },
  {
   "cell_type": "markdown",
   "id": "867e8f97",
   "metadata": {},
   "source": [
    "Lorem ipsum dolor sit amet, consectetur adipiscing elit. Pellentesque tincidunt viverra sem eu interdum. Integer nec vestibulum neque. Integer id scelerisque felis. Curabitur at dolor in nunc consequat efficitur non et est. Praesent eget tincidunt ante. Vivamus at enim vitae augue lobortis molestie. \n",
    "\n",
    "Aliquam arcu tortor, cursus a dictum sed, cursus sit amet urna. Phasellus justo velit, pellentesque non enim a, hendrerit iaculis purus. Donec erat neque, porttitor ac sodales sed, gravida in justo. Aliquam lobortis arcu dignissim ante molestie, ut lobortis magna luctus. Etiam quis mauris mauris.\n",
    "\n",
    "* Phasellus tempor purus volutpat leo posuere vestibulum;\n",
    "* Mauris non imperdiet ipsum;\n",
    "* Nulla sollicitudin sodales diam ac sodales.\n",
    "\n",
    "$a.x^2 + b.x + c = 0$"
   ]
  },
  {
   "cell_type": "markdown",
   "id": "fe4706e9",
   "metadata": {},
   "source": [
    "# Hello World"
   ]
  },
  {
   "cell_type": "code",
   "execution_count": 5,
   "id": "eab815ce",
   "metadata": {},
   "outputs": [
    {
     "name": "stdout",
     "output_type": "stream",
     "text": [
      "Hello World!\n"
     ]
    }
   ],
   "source": [
    "print(\"Hello World!\")"
   ]
  },
  {
   "cell_type": "code",
   "execution_count": null,
   "id": "f190fb4a",
   "metadata": {},
   "outputs": [],
   "source": []
  }
 ],
 "metadata": {
  "kernelspec": {
   "display_name": "Python 3",
   "language": "python",
   "name": "python3"
  },
  "language_info": {
   "codemirror_mode": {
    "name": "ipython",
    "version": 3
   },
   "file_extension": ".py",
   "mimetype": "text/x-python",
   "name": "python",
   "nbconvert_exporter": "python",
   "pygments_lexer": "ipython3",
   "version": "3.8.8"
  }
 },
 "nbformat": 4,
 "nbformat_minor": 5
}
